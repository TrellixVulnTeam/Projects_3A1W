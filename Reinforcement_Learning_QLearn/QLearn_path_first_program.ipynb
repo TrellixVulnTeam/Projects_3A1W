{
 "cells": [
  {
   "cell_type": "code",
   "execution_count": 1,
   "metadata": {
    "collapsed": true
   },
   "outputs": [],
   "source": [
    "import numpy as np\n",
    "import random"
   ]
  },
  {
   "cell_type": "code",
   "execution_count": 2,
   "metadata": {
    "collapsed": true
   },
   "outputs": [],
   "source": [
    "#column 0 = left\n",
    "#column 1 = right\n",
    "#column 2 = up\n",
    "#column 3 = down\n",
    "# ------------- L   R   U   D ------------- #\n",
    "R = np.array([[-2,  0, -2, -1], #0\n",
    "              [ 0,  0, -2, -1], #1\n",
    "              [ 0,  0, -2,  0], #2\n",
    "              [ 0, -2, -2,  0], #3\n",
    "              [-2, -1,  0, -1], #4\n",
    "              [-1,  0,  0,  0], #5\n",
    "              [-1,  0,  0,  0], #6\n",
    "              [ 0, -2,  0, -1], #7 \n",
    "              [-2,  0, -1,  0], #8\n",
    "              [100, 0, -1,  0], #9\n",
    "              [ 0, -1,  0,  0], #10\n",
    "              [ 0, -2,  0, -1], #11\n",
    "              [-2,  0, 100,-2], #12\n",
    "              [ 0,  0,  0, -2], #13\n",
    "              [ 0, -1,  0, -2], #14\n",
    "              [ 0, -2, -1, -2]]).astype(\"float32\")\n",
    "Q = np.zeros_like(R)"
   ]
  },
  {
   "cell_type": "code",
   "execution_count": 3,
   "metadata": {
    "collapsed": true
   },
   "outputs": [],
   "source": [
    "size_grid = [4,4]\n",
    "gamma = 0.8\n",
    "goal = 8\n",
    "\n",
    "for _ in range(500):\n",
    "    current_state = random.randint(0,len(R)-1)\n",
    "    while (current_state!= goal):\n",
    "    \n",
    "        temp = np.asarray(np.where((R[current_state,:]!=-1) & (R[current_state,:]!=-2)))\n",
    "        action = np.random.choice(temp[0,:])\n",
    "    \n",
    "        if (action==0):\n",
    "            next_state = current_state - 1\n",
    "        elif (action==1):\n",
    "            next_state = current_state + 1\n",
    "        elif (action==2):\n",
    "            next_state = current_state - size_grid[1]\n",
    "        elif (action==3):\n",
    "            next_state = current_state + size_grid[1]\n",
    "\n",
    "        Q[current_state, action] = R[current_state, action] + (gamma * Q[next_state, :].max())\n",
    "\n",
    "        current_state = next_state\n",
    "        \n",
    "       # print current_state\n",
    "       # print Q"
   ]
  },
  {
   "cell_type": "code",
   "execution_count": 4,
   "metadata": {},
   "outputs": [
    {
     "data": {
      "text/plain": [
       "array([[   0.        ,   32.76799774,    0.        ,    0.        ],\n",
       "       [  26.21439743,   40.95999908,    0.        ,    0.        ],\n",
       "       [  32.76799774,   32.76799774,    0.        ,   51.20000076],\n",
       "       [  40.95999908,    0.        ,    0.        ,   40.95999908],\n",
       "       [   0.        ,    0.        ,   26.21439743,    0.        ],\n",
       "       [   0.        ,   51.20000076,   32.76799774,   80.        ],\n",
       "       [   0.        ,   40.95999908,   40.95999908,   64.        ],\n",
       "       [  51.20000076,    0.        ,   32.76799774,    0.        ],\n",
       "       [   0.        ,    0.        ,    0.        ,    0.        ],\n",
       "       [ 100.        ,   64.        ,    0.        ,   64.        ],\n",
       "       [  80.        ,    0.        ,   51.20000076,   51.20000076],\n",
       "       [  64.        ,    0.        ,   40.95999908,    0.        ],\n",
       "       [   0.        ,   64.        ,  100.        ,    0.        ],\n",
       "       [  80.        ,   51.20000076,   80.        ,    0.        ],\n",
       "       [  64.        ,    0.        ,   64.        ,    0.        ],\n",
       "       [  51.20000076,    0.        ,    0.        ,    0.        ]], dtype=float32)"
      ]
     },
     "execution_count": 4,
     "metadata": {},
     "output_type": "execute_result"
    }
   ],
   "source": [
    "Q"
   ]
  },
  {
   "cell_type": "code",
   "execution_count": 5,
   "metadata": {},
   "outputs": [
    {
     "name": "stdout",
     "output_type": "stream",
     "text": [
      "0\n",
      "1\n",
      "2\n",
      "6\n",
      "10\n",
      "9\n",
      "8\n",
      "\n",
      "1\n",
      "2\n",
      "6\n",
      "10\n",
      "9\n",
      "8\n",
      "\n",
      "2\n",
      "6\n",
      "10\n",
      "9\n",
      "8\n",
      "\n",
      "3\n",
      "2\n",
      "6\n",
      "10\n",
      "9\n",
      "8\n",
      "\n",
      "4\n",
      "0\n",
      "1\n",
      "2\n",
      "6\n",
      "10\n",
      "9\n",
      "8\n",
      "\n",
      "5\n",
      "9\n",
      "8\n",
      "\n",
      "6\n",
      "10\n",
      "9\n",
      "8\n",
      "\n",
      "7\n",
      "6\n",
      "10\n",
      "9\n",
      "8\n",
      "\n",
      "8\n",
      "\n",
      "9\n",
      "8\n",
      "\n",
      "10\n",
      "9\n",
      "8\n",
      "\n",
      "11\n",
      "10\n",
      "9\n",
      "8\n",
      "\n",
      "12\n",
      "8\n",
      "\n",
      "13\n",
      "12\n",
      "8\n",
      "\n",
      "14\n",
      "13\n",
      "12\n",
      "8\n",
      "\n",
      "15\n",
      "14\n",
      "13\n",
      "12\n",
      "8\n",
      "\n"
     ]
    }
   ],
   "source": [
    "goal = 8\n",
    "for current_state in range(len(Q)):    \n",
    "    print current_state\n",
    "    \n",
    "    while (current_state!= goal):\n",
    "        action = np.argmax(Q[current_state,:])\n",
    "        \n",
    "        if (action==0):\n",
    "            next_state = current_state - 1\n",
    "        elif (action==1):\n",
    "            next_state = current_state + 1\n",
    "        elif (action==2):\n",
    "            next_state = current_state - size_grid[1]\n",
    "        elif (action==3):\n",
    "            next_state = current_state + size_grid[1]\n",
    "        \n",
    "        current_state = next_state\n",
    "    \n",
    "        print current_state\n",
    "    print"
   ]
  },
  {
   "cell_type": "code",
   "execution_count": null,
   "metadata": {
    "collapsed": true
   },
   "outputs": [],
   "source": []
  }
 ],
 "metadata": {
  "kernelspec": {
   "display_name": "Python 2",
   "language": "python",
   "name": "python2"
  },
  "language_info": {
   "codemirror_mode": {
    "name": "ipython",
    "version": 2
   },
   "file_extension": ".py",
   "mimetype": "text/x-python",
   "name": "python",
   "nbconvert_exporter": "python",
   "pygments_lexer": "ipython2",
   "version": "2.7.6"
  }
 },
 "nbformat": 4,
 "nbformat_minor": 2
}
