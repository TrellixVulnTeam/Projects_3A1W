{
 "cells": [
  {
   "cell_type": "code",
   "execution_count": 15,
   "metadata": {
    "scrolled": true
   },
   "outputs": [],
   "source": [
    "import numpy as np\n",
    "import matplotlib.pyplot as plt\n",
    "import random as rd\n",
    "data = np.loadtxt('mnist_train.csv', dtype = str, delimiter = ',')"
   ]
  },
  {
   "cell_type": "code",
   "execution_count": 16,
   "metadata": {},
   "outputs": [],
   "source": [
    "y = np.asarray(data[1:, 0:1], dtype='float')\n",
    "X = np.asarray(data[1:,1:], dtype='float')\n",
    "\n",
    "def add_ones(x):\n",
    "    a, b = np.shape(x)\n",
    "    c = np.ones((a , 1))   \n",
    "    return np.hstack((c, x))\n",
    "\n",
    "X = add_ones(X)"
   ]
  },
  {
   "cell_type": "code",
   "execution_count": 17,
   "metadata": {},
   "outputs": [],
   "source": [
    "from sklearn.model_selection import train_test_split"
   ]
  },
  {
   "cell_type": "code",
   "execution_count": 18,
   "metadata": {},
   "outputs": [],
   "source": [
    "X_train, X_test, y_train, y_test = train_test_split(X, y, test_size=0.9, random_state=42)"
   ]
  },
  {
   "cell_type": "code",
   "execution_count": 19,
   "metadata": {},
   "outputs": [],
   "source": [
    "def img(row, data):\n",
    "    image = np.zeros((28,28))\n",
    "    for i in range(0,28):\n",
    "        for j in range(0,28):\n",
    "            pix = 28*i+j\n",
    "            image[i,j] = data[row, pix]\n",
    "    plt.imshow(image, cmap = 'gray')\n",
    "    plt.show()\n",
    "    print(data[row,0])"
   ]
  },
  {
   "cell_type": "code",
   "execution_count": 20,
   "metadata": {},
   "outputs": [
    {
     "data": {
      "image/png": "[encoded data removed]",
      "text/plain": [
       "<Figure size 432x288 with 1 Axes>"
      ]
     },
     "metadata": {
      "needs_background": "light"
     },
     "output_type": "display_data"
    },
    {
     "name": "stdout",
     "output_type": "stream",
     "text": [
      "1.0\n"
     ]
    }
   ],
   "source": [
    "img(1, X_train)"
   ]
  },
  {
   "cell_type": "code",
   "execution_count": null,
   "metadata": {},
   "outputs": [],
   "source": [
    "def create_weights(data):\n",
    "    a, b = np.shape(data)\n",
    "    weights = np.random.rand(b,1)\n",
    "    return weights\n",
    "\n",
    "weights = create_weights(X_train)"
   ]
  },
  {
   "cell_type": "code",
   "execution_count": null,
   "metadata": {},
   "outputs": [],
   "source": [
    "def predict(data_point, weights):\n",
    "    b = np.dot(data_point, weights)\n",
    "    a = b>0\n",
    "    return a*1"
   ]
  },
  {
   "cell_type": "code",
   "execution_count": null,
   "metadata": {},
   "outputs": [],
   "source": [
    "def one_number(labels, number):\n",
    "    return (labels == number)*1"
   ]
  },
  {
   "cell_type": "code",
   "execution_count": null,
   "metadata": {},
   "outputs": [],
   "source": [
    "label_ones = one_number(y_train, 2)"
   ]
  },
  {
   "cell_type": "code",
   "execution_count": null,
   "metadata": {},
   "outputs": [],
   "source": [
    "def update(weights, data_point, labels, alpha=.1):\n",
    "    predicted = predict(data_point, weights)\n",
    "#for i in range(0, len(weights)):\n",
    "    weight_temp = np.zeros(np.shape(weights))\n",
    "    weight_temp[:,0] = alpha*(labels-predicted)*data_point\n",
    "    return weight_temp+weights"
   ]
  },
  {
   "cell_type": "code",
   "execution_count": null,
   "metadata": {},
   "outputs": [],
   "source": [
    "np.shape(update(weights, X_train[3], label_ones[3]))"
   ]
  },
  {
   "cell_type": "code",
   "execution_count": null,
   "metadata": {},
   "outputs": [],
   "source": [
    "def train_perceptron(data, labels, weights, alpha = .1, iterations = 100):\n",
    "    for j in range(0, iterations):\n",
    "        for i in range(0, len(data)):\n",
    "            weights = update(weights, data[i], labels[i], alpha)\n",
    "    return weights"
   ]
  },
  {
   "cell_type": "code",
   "execution_count": null,
   "metadata": {},
   "outputs": [],
   "source": [
    "weights_new = train_perceptron(X_train, label_ones, weights, alpha = .1, iterations = 50)"
   ]
  },
  {
   "cell_type": "code",
   "execution_count": null,
   "metadata": {},
   "outputs": [],
   "source": [
    "label_ones = one_number(y_train, 3)\n",
    "weights_new = train_perceptron(X_train, label_ones, weights, alpha = .01, iterations =6)"
   ]
  },
  {
   "cell_type": "code",
   "execution_count": null,
   "metadata": {},
   "outputs": [],
   "source": [
    "def test_perceptron_f(data, labels, weights):\n",
    "    a,b = np.shape(data)\n",
    "    predicted = predict(data, weights)\n",
    "    correct = (predicted==labels)*1==1\n",
    "    true_pos = np.sum((labels==1)*(correct))\n",
    "    true_neg = np.sum((labels==0)*(correct))\n",
    "    total_pos = np.sum(labels)\n",
    "    total_neg = a-total_pos\n",
    "    tp_p = true_pos/float(np.sum(labels))\n",
    "    tn_p = true_neg/float(a- np.sum(labels))\n",
    "    return true_pos, true_neg, tp_p, tn_p, total_pos, total_neg\n",
    "    \n",
    "a,b,c,d,e,f = test_perceptron_f(X_train, label_ones, weights_new)"
   ]
  },
  {
   "cell_type": "code",
   "execution_count": null,
   "metadata": {},
   "outputs": [],
   "source": [
    "print(c, d)"
   ]
  },
  {
   "cell_type": "code",
   "execution_count": null,
   "metadata": {},
   "outputs": [],
   "source": [
    "############################ ALL NUMBERS ########################"
   ]
  },
  {
   "cell_type": "code",
   "execution_count": null,
   "metadata": {},
   "outputs": [],
   "source": [
    "for i in range(0,10):\n",
    "    num = i\n",
    "    label_ones = one_number(y_train, num)\n",
    "    weights_new = train_perceptron(X_train, label_ones, weights, alpha = .1, iterations =5)\n",
    "    label_test = one_number(y_test, num)\n",
    "    a = test_perceptron_f(X_test, label_test, weights_new)"
   ]
  },
  {
   "cell_type": "code",
   "execution_count": null,
   "metadata": {},
   "outputs": [],
   "source": [
    "def all_numbers(data,labels):\n",
    "    c,d = np.shape(data)\n",
    "    w = create_weights(data)\n",
    "    weights = []\n",
    "    for i in range(0,  len(np.unique(labels))):\n",
    "        z = one_number(labels, i)\n",
    "        a = train_perceptron(data, z, w, .1, 4)\n",
    "        weights.append(a[:,0])\n",
    "    return np.asarray(weights)"
   ]
  },
  {
   "cell_type": "code",
   "execution_count": null,
   "metadata": {},
   "outputs": [],
   "source": [
    "w = all_numbers(X_train, y_train)"
   ]
  },
  {
   "cell_type": "code",
   "execution_count": null,
   "metadata": {},
   "outputs": [],
   "source": [
    "print(\"--no. of weights trained--\", np.shape(w))"
   ]
  },
  {
   "cell_type": "code",
   "execution_count": null,
   "metadata": {},
   "outputs": [],
   "source": [
    "def one_all(data, weights):\n",
    "    a = np.dot(data,np.transpose(weights))\n",
    "    b = len(np.shape(data))\n",
    "    if b == 1:\n",
    "        return np.argmax(a)\n",
    "    return np.argmax(a, axis=1)\n",
    "\n",
    "\n",
    "def test_all(data, labels, weights):\n",
    "    a, b = np.shape(labels)\n",
    "    predicted = one_all(data, weights)\n",
    "    correct = predicted == labels[:,0]\n",
    "    accuracy = np.sum(correct)/float(a)\n",
    "    return accuracy\n",
    "\n",
    "print(\"accuracy---->\", test_all(X_train, y_train, w))"
   ]
  },
  {
   "cell_type": "code",
   "execution_count": null,
   "metadata": {},
   "outputs": [],
   "source": []
  }
 ],
 "metadata": {
  "kernelspec": {
   "display_name": "Python 3",
   "language": "python",
   "name": "python3"
  },
  "language_info": {
   "codemirror_mode": {
    "name": "ipython",
    "version": 3
   },
   "file_extension": ".py",
   "mimetype": "text/x-python",
   "name": "python",
   "nbconvert_exporter": "python",
   "pygments_lexer": "ipython3",
   "version": "3.6.7"
  }
 },
 "nbformat": 4,
 "nbformat_minor": 2
}
